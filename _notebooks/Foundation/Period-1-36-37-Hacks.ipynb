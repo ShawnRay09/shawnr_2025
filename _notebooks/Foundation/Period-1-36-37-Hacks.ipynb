{
 "cells": [
  {
   "cell_type": "raw",
   "id": "2e742db5",
   "metadata": {
    "vscode": {
     "languageId": "raw"
    }
   },
   "source": [
    "---\n",
    "layout: post\n",
    "title: 3.6/3.7 Hacks\n",
    "description:  Popcorn and Homework hacks for 3.6/3.7\n",
    "type: hacks\n",
    "courses: { compsci: {week: 14} }\n",
    "comments: true\n",
    "---"
   ]
  },
  {
   "cell_type": "code",
   "execution_count": null,
   "id": "10967445-37e7-46e9-b33c-fcc67c89ba10",
   "metadata": {},
   "outputs": [],
   "source": [
    "#Homework Hack for 3.6"
   ]
  },
  {
   "cell_type": "code",
   "execution_count": 2,
   "id": "9f523736-7435-4489-97ad-21e4806ae05c",
   "metadata": {},
   "outputs": [
    {
     "name": "stdout",
     "output_type": "stream",
     "text": [
      "Please enter the first number:  1\n",
      "Please enter the second number:  1\n"
     ]
    },
    {
     "name": "stdout",
     "output_type": "stream",
     "text": [
      "The two numbers are identical.\n"
     ]
    }
   ],
   "source": [
    "def assess_numbers(a, b):\n",
    "    if a == b:\n",
    "        print(\"The two numbers are identical.\")\n",
    "    elif a > b:\n",
    "        print(f\"{a} is the greater number.\")\n",
    "    else:\n",
    "        print(f\"{b} is the greater number.\")\n",
    "\n",
    "first_number = float(input(\"Please enter the first number: \"))\n",
    "second_number = float(input(\"Please enter the second number: \"))\n",
    "\n",
    "assess_numbers(first_number, second_number)\n"
   ]
  },
  {
   "cell_type": "code",
   "execution_count": 3,
   "id": "5e25228a-7bcb-438d-8e6e-caceab4ca0f0",
   "metadata": {},
   "outputs": [
    {
     "name": "stdout",
     "output_type": "stream",
     "text": [
      "Please enter the first number:  1\n",
      "Please enter the second number:  2\n"
     ]
    },
    {
     "name": "stdout",
     "output_type": "stream",
     "text": [
      "2.0 is the greater number.\n"
     ]
    }
   ],
   "source": [
    "def assess_numbers(a, b):\n",
    "    if a == b:\n",
    "        print(\"The two numbers are identical.\")\n",
    "    elif a > b:\n",
    "        print(f\"{a} is the greater number.\")\n",
    "    else:\n",
    "        print(f\"{b} is the greater number.\")\n",
    "\n",
    "first_number = float(input(\"Please enter the first number: \"))\n",
    "second_number = float(input(\"Please enter the second number: \"))\n",
    "\n",
    "assess_numbers(first_number, second_number)\n"
   ]
  },
  {
   "cell_type": "code",
   "execution_count": null,
   "id": "d5ddc7aa-ee03-4dde-8f9b-6149057d69b1",
   "metadata": {},
   "outputs": [],
   "source": [
    "#Homework Hack for 3.7"
   ]
  },
  {
   "cell_type": "markdown",
   "id": "1e0f5162-5ca2-4305-b1e0-7848910881a1",
   "metadata": {},
   "source": [
    "## Not able to be run (Pseudocode)\n",
    "\n",
    "1. INPUT exam_score\n",
    "2. INPUT attendance_percentage\n",
    "3. IF exam_score >= 60 THEN\n",
    "    - IF attendance_percentage >= 75 THEN\n",
    "        - PRINT \"Student passes the class.\"\n",
    "    - ELSE\n",
    "        - PRINT \"Student fails due to low attendance.\"\n",
    "4. ELSE\n",
    "    - PRINT \"Student fails due to low exam score.\"\n"
   ]
  },
  {
   "cell_type": "code",
   "execution_count": 6,
   "id": "d900f83b-5ca1-4d36-bf29-5a4722c403a5",
   "metadata": {},
   "outputs": [
    {
     "name": "stdout",
     "output_type": "stream",
     "text": [
      "Enter the weight of the package (in pounds):  10\n",
      "Choose delivery speed (standard/express):  standard\n"
     ]
    },
    {
     "name": "stdout",
     "output_type": "stream",
     "text": [
      "Shipping cost: 10.0\n"
     ]
    }
   ],
   "source": [
    "#Python delivery speed\n",
    "def calculate_shipping(weight, delivery_speed):\n",
    "    if weight <= 5:  # Weight in pounds\n",
    "        if delivery_speed == \"standard\":\n",
    "            cost = 5.00\n",
    "        elif delivery_speed == \"express\":\n",
    "            cost = 10.00\n",
    "        else:\n",
    "            cost = \"Invalid delivery speed.\"\n",
    "    elif weight <= 20:\n",
    "        if delivery_speed == \"standard\":\n",
    "            cost = 10.00\n",
    "        elif delivery_speed == \"express\":\n",
    "            cost = 20.00\n",
    "        else:\n",
    "            cost = \"Invalid delivery speed.\"\n",
    "    else:\n",
    "        if delivery_speed == \"standard\":\n",
    "            cost = 20.00\n",
    "        elif delivery_speed == \"express\":\n",
    "            cost = 40.00\n",
    "        else:\n",
    "            cost = \"Invalid delivery speed.\"\n",
    "    \n",
    "    return cost\n",
    "\n",
    "weight = float(input(\"Enter the weight of the package (in pounds): \"))\n",
    "speed = input(\"Choose delivery speed (standard/express): \")\n",
    "shipping_cost = calculate_shipping(weight, speed)\n",
    "print(f\"Shipping cost: {shipping_cost}\")\n"
   ]
  },
  {
   "cell_type": "code",
   "execution_count": null,
   "id": "482f6274-dd1b-471e-8257-25ae5bea1201",
   "metadata": {},
   "outputs": [],
   "source": [
    "#python tickets\n",
    "def ticket_price(age, is_student):\n",
    "    if age < 12:\n",
    "        price = 5.00  # Child ticket price\n",
    "    elif 12 <= age < 65:\n",
    "        price = 10.00  # Adult ticket price\n",
    "    else:\n",
    "        price = 7.00  # Senior ticket price\n",
    "    \n",
    "    if is_student:\n",
    "        price *= 0.9  # students have the pric e\n",
    "\n",
    "    return price\n",
    "\n",
    "# Example usage\n",
    "age = int(input(\"Enter your age: \"))\n",
    "is_student = input(\"Are you a student? (yes/no): \").strip().lower() == \"yes\"\n",
    "price = ticket_price(age, is_student)\n",
    "print(f\"Your ticket price is: ${price:.2f}\")\n"
   ]
  }
 ],
 "metadata": {
  "kernelspec": {
   "display_name": "Python 3 (ipykernel)",
   "language": "python",
   "name": "python3"
  },
  "language_info": {
   "codemirror_mode": {
    "name": "ipython",
    "version": 3
   },
   "file_extension": ".py",
   "mimetype": "text/x-python",
   "name": "python",
   "nbconvert_exporter": "python",
   "pygments_lexer": "ipython3",
   "version": "3.10.12"
  }
 },
 "nbformat": 4,
 "nbformat_minor": 5
}
