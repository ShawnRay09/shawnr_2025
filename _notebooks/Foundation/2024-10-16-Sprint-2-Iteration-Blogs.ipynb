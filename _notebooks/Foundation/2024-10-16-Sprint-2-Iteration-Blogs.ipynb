{
 "cells": [
  {
   "cell_type": "raw",
   "id": "8e50f086",
   "metadata": {},
   "source": [
    "---\n",
    "layout: post\n",
    "title: 3.8 Iteration's Blogs\n",
    "description: Arya, Shawn, and Aarav's blog about Sprint 2\n",
    "type: issues\n",
    "comments: True\n",
    "---"
   ]
  },
  {
   "cell_type": "code",
   "execution_count": 1,
   "id": "9a1ee2b1",
   "metadata": {},
   "outputs": [
    {
     "name": "stdout",
     "output_type": "stream",
     "text": [
      "Shawn: https://shawnray09.github.io/shawnr_2025/2024/10/15/Personal-Blog.html\n",
      "Arya: No link available\n",
      "Aarav: No link available\n"
     ]
    }
   ],
   "source": []
  }
 ],
 "metadata": {
  "kernelspec": {
   "display_name": "Python 3 (ipykernel)",
   "language": "python",
   "name": "python3"
  },
  "language_info": {
   "codemirror_mode": {
    "name": "ipython",
    "version": 3
   },
   "file_extension": ".py",
   "mimetype": "text/x-python",
   "name": "python",
   "nbconvert_exporter": "python",
   "pygments_lexer": "ipython3",
   "version": "3.10.12"
  }
 },
 "nbformat": 4,
 "nbformat_minor": 5
}
