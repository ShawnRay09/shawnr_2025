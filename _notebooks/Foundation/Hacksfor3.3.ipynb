{
 "cells": [
  {
   "cell_type": "markdown",
   "id": "5b4e6e5b",
   "metadata": {},
   "source": [
    "---\n",
    "layout: post\n",
    "title: 3.3 Hacks\n",
    "description:  Popcorn and Homework hacks for 3.3\n",
    "type: issues \n",
    "comments: true\n",
    "---"
   ]
  },
  {
   "cell_type": "code",
   "execution_count": 19,
   "id": "9d2853df",
   "metadata": {},
   "outputs": [
    {
     "name": "stdout",
     "output_type": "stream",
     "text": [
      "14\n"
     ]
    }
   ],
   "source": [
    "#POPCORN HACK 1\n",
    "\n",
    "def output(x):\n",
    "    result = 2 * (x + 3) - 2\n",
    "    print(result)\n",
    "\n",
    "output(5)\n",
    "\n"
   ]
  },
  {
   "cell_type": "code",
   "execution_count": 11,
   "id": "a2692bf9",
   "metadata": {},
   "outputs": [
    {
     "name": "stdout",
     "output_type": "stream",
     "text": [
      "86\n"
     ]
    }
   ],
   "source": [
    "#POPCORN HACK 2\n",
    "\n",
    "number1 = 8\n",
    "number2 = 3\n",
    "number3 = number1 % number2\n",
    "number4 = number3 * number1 + 70\n",
    "print(number4)\n",
    "\n",
    "#Remainder of 8/3 is 2\n",
    "#2 times 8 is 16\n",
    "#16 plus 70 is finally 86"
   ]
  },
  {
   "cell_type": "code",
   "execution_count": 12,
   "id": "f842f22b",
   "metadata": {},
   "outputs": [
    {
     "name": "stdout",
     "output_type": "stream",
     "text": [
      "The remainder when 23 is divided by 3 is 2\n",
      "The remainder when 25 is divided by 3 is 1\n",
      "The remainder when 53 is divided by 3 is 2\n",
      "69 is divisible by 3\n",
      "42 is divisible by 3\n",
      "90 is divisible by 3\n"
     ]
    }
   ],
   "source": [
    "#POPCORN HACK 3\n",
    "\n",
    "numbers = [23, 25, 53, 69, 42, 90]\n",
    "\n",
    "\n",
    "for num in numbers:\n",
    "    remainder = num % 3\n",
    "    if remainder == 0:\n",
    "        print(f\"{num} is divisible by 3\")\n",
    "    else:\n",
    "        print(f\"The remainder when {num} is divided by 3 is {remainder}\")\n"
   ]
  },
  {
   "cell_type": "code",
   "execution_count": 14,
   "id": "7a62d222",
   "metadata": {},
   "outputs": [
    {
     "name": "stdout",
     "output_type": "stream",
     "text": [
      "Enter the term number for the Fibonacci sequence: 7\n",
      "The 7th term in the Fibonacci sequence is: 13\n",
      "Enter the shape (circle, square, rectangle): circle\n",
      "Enter the radius of the circle: 7\n",
      "The area of the circle is: 153.93791\n"
     ]
    }
   ],
   "source": [
    "#Homework Hack\n",
    "\n",
    "def fibonacci(n):\n",
    "    if n < 0:\n",
    "        raise ValueError(\"Input must be a non-negative integer.\")\n",
    "    elif n == 0:\n",
    "        return 0\n",
    "    elif n == 1:\n",
    "        return 1\n",
    "    else:\n",
    "        a, b = 0, 1\n",
    "        for _ in range(2, n + 1):\n",
    "            a, b = b, a + b\n",
    "        return b\n",
    "\n",
    "def calculate_area():\n",
    "    shape = input(\"Enter the shape (circle, square, rectangle): \").lower()\n",
    "    \n",
    "    if shape == \"circle\":\n",
    "        radius = float(input(\"Enter the radius of the circle: \"))\n",
    "        area = 3.14159 * radius ** 2\n",
    "        print(f\"The area of the circle is: {area}\")\n",
    "        \n",
    "    elif shape == \"square\":\n",
    "        side = float(input(\"Enter the side length of the square: \"))\n",
    "        area = side ** 2\n",
    "        print(f\"The area of the square is: {area}\")\n",
    "        \n",
    "    elif shape == \"rectangle\":\n",
    "        length = float(input(\"Enter the length of the rectangle: \"))\n",
    "        width = float(input(\"Enter the width of the rectangle: \"))\n",
    "        area = length * width\n",
    "        print(f\"The area of the rectangle is: {area}\")\n",
    "        \n",
    "    else:\n",
    "        print(\"Invalid shape! Please enter 'circle', 'square', or 'rectangle'.\")\n",
    "\n",
    "n = int(input(\"Enter the term number for the Fibonacci sequence: \"))\n",
    "print(f\"The {n}th term in the Fibonacci sequence is: {fibonacci(n)}\")\n",
    "\n",
    "calculate_area()\n"
   ]
  }
 ],
 "metadata": {
  "kernelspec": {
   "display_name": "Python 3 (ipykernel)",
   "language": "python",
   "name": "python3"
  },
  "language_info": {
   "codemirror_mode": {
    "name": "ipython",
    "version": 3
   },
   "file_extension": ".py",
   "mimetype": "text/x-python",
   "name": "python",
   "nbconvert_exporter": "python",
   "pygments_lexer": "ipython3",
   "version": "3.10.12"
  }
 },
 "nbformat": 4,
 "nbformat_minor": 5
}
