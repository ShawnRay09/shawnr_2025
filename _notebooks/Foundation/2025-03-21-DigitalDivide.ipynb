{
 "cells": [
  {
   "cell_type": "raw",
   "metadata": {},
   "source": [
    "---\n",
    "layout: post\n",
    "title: Sprint 3 Summary\n",
    "description: Shawn Ray's Journey through Sprint 3\n",
    "type: issues\n",
    "comments: True\n",
    "---"
   ]
  },
  {
   "cell_type": "code",
   "execution_count": null,
   "metadata": {
    "vscode": {
     "languageId": "javascript"
    }
   },
   "outputs": [
    {
     "ename": "SyntaxError",
     "evalue": "invalid syntax (2766040196.py, line 1)",
     "output_type": "error",
     "traceback": [
      "\u001b[0;36m  Cell \u001b[0;32mIn[5], line 1\u001b[0;36m\u001b[0m\n\u001b[0;31m    function exploreDigitalDivide() {\u001b[0m\n\u001b[0m             ^\u001b[0m\n\u001b[0;31mSyntaxError\u001b[0m\u001b[0;31m:\u001b[0m invalid syntax\n"
     ]
    }
   ],
   "source": [
    "function exploreDigitalDivide() \n",
    "{\n",
    "  // Select what data to display\n",
    "  const metric = prompt(\n",
    "    \"Which digital divide metric would you like to explore?\\n\" +\n",
    "    \"1: Income-based internet access\\n\" +\n",
    "    \"2: Urban vs rural access\\n\" +\n",
    "    \"3: Age-based internet usage\\n\" +\n",
    "    \"4: Global connectivity rates\"\n",
    "  );\n",
    "\n",
    "  // Sample data\n",
    "  const incomeData = {\n",
    "    categories: [\"Lowest 20%\", \"Second 20%\", \"Middle 20%\", \"Fourth 20%\", \"Highest 20%\"],\n",
    "    values: [62, 71, 80, 88, 95]\n",
    "  };\n",
    "\n",
    "  const locationData = {\n",
    "    categories: [\"Urban\", \"Rural\"],\n",
    "    values: [94, 83]\n",
    "  };\n",
    "\n",
    "  const ageData = {\n",
    "    categories: [\"18-29\", \"30-49\", \"50-64\", \"65+\"],\n",
    "    values: [97, 93, 88, 61]\n",
    "  };\n",
    "\n",
    "  const globalData = {\n",
    "    categories: [\"North America\", \"Europe\", \"Asia Pacific\", \"Latin America\", \"Middle East/Africa\"],\n",
    "    values: [90, 87, 54, 68, 40]\n",
    "  };\n",
    "\n",
    "  // Select dataset based on user choice\n",
    "  let data;\n",
    "  let title;\n",
    "\n",
    "  switch(metric) {\n",
    "    case \"1\":\n",
    "      data = incomeData;\n",
    "      title = \"Internet Access by Income Level (%)\";\n",
    "      break;\n",
    "    case \"2\":\n",
    "      data = locationData;\n",
    "      title = \"Urban vs Rural Internet Access (%)\";\n",
    "      break;\n",
    "    case \"3\":\n",
    "      data = ageData;\n",
    "      title = \"Internet Usage by Age Group (%)\";\n",
    "      break;\n",
    "    case \"4\":\n",
    "      data = globalData;\n",
    "      title = \"Internet Access by Region (%)\";\n",
    "      break;\n",
    "    default:\n",
    "      alert(\"Invalid selection!\");\n",
    "      return;\n",
    "  }\n",
    "\n",
    "  // Display the data (in a real app, this would create a chart)\n",
    "  console.log(title);\n",
    "  console.log(\"=\".repeat(title.length));\n",
    "\n",
    "  const maxValue = Math.max(...data.values);\n",
    "  const maxBarLength = 40;\n",
    "\n",
    "  for (let i = 0; i < data.categories.length; i++) {\n",
    "    const barLength = Math.round((data.values[i] / maxValue) * maxBarLength);\n",
    "    const bar = \"█\".repeat(barLength);\n",
    "    console.log(`${data.categories[i].padEnd(12)}: ${bar} ${data.values[i]}%`);\n",
    "  }\n",
    "}\n",
    "\n",
    "exploreDigitalDivide();"
   ]
  }
 ],
 "metadata": {
  "kernelspec": {
   "display_name": "venv",
   "language": "python",
   "name": "python3"
  },
  "language_info": {
   "codemirror_mode": {
    "name": "ipython",
    "version": 3
   },
   "file_extension": ".py",
   "mimetype": "text/x-python",
   "name": "python",
   "nbconvert_exporter": "python",
   "pygments_lexer": "ipython3",
   "version": "3.12.3"
  }
 },
 "nbformat": 4,
 "nbformat_minor": 2
}
