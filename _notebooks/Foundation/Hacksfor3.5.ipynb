{
 "cells": [
  {
   "cell_type": "raw",
   "id": "c34bba60",
   "metadata": {
    "vscode": {
     "languageId": "raw"
    }
   },
   "source": [
    "---\n",
    "layout: post\n",
    "title: 3.5 Hacks\n",
    "description:  Popcorn and Homework hacks for 3.5\n",
    "type: hacks\n",
    "courses: { compsci: {week: 14} }\n",
    "comments: true\n",
    "---"
   ]
  },
  {
   "cell_type": "code",
   "execution_count": 4,
   "id": "649ef6ad",
   "metadata": {},
   "outputs": [
    {
     "name": "stdout",
     "output_type": "stream",
     "text": [
      "vA is true!\n"
     ]
    }
   ],
   "source": [
    "#POPCORN HACK 1\n",
    "vA = True  # CHANGEABLE\n",
    "\n",
    "def check_if_true(value):\n",
    "    if value:\n",
    "        print(\"vA is true!\")\n",
    "    else:\n",
    "        print(\"vA is false!\")\n",
    "\n",
    "\n",
    "check_if_true(vA)\n"
   ]
  },
  {
   "cell_type": "code",
   "execution_count": 5,
   "id": "4908b646",
   "metadata": {},
   "outputs": [
    {
     "name": "stdout",
     "output_type": "stream",
     "text": [
      "At least one of vA or vB is true!\n"
     ]
    }
   ],
   "source": [
    "#POPCORN HACK 1\n",
    "\n",
    "vA = True   # CHANGEABLE\n",
    "vB = False  # CHANGEABLE\n",
    "\n",
    "def check_both_or_either(value1, value2):\n",
    "    if value1 and value2:\n",
    "        print(\"Both vA and vB are true!\")\n",
    "    elif value1 or value2:\n",
    "        print(\"At least one of vA or vB is true!\")\n",
    "    else:\n",
    "        print(\"Both vA and vB are false.\")\n",
    "\n",
    "check_both_or_either(vA, vB)\n"
   ]
  },
  {
   "cell_type": "code",
   "execution_count": 6,
   "id": "9b7e0480",
   "metadata": {},
   "outputs": [
    {
     "name": "stdout",
     "output_type": "stream",
     "text": [
      "The number 15 is greater than 10.\n"
     ]
    }
   ],
   "source": [
    "#POPCORN HACK 2\n",
    "\n",
    "number = 15  #  CHANGEABLE\n",
    "\n",
    "is_greater_than_10 = number > 10\n",
    "\n",
    "if is_greater_than_10:\n",
    "    print(f\"The number {number} is greater than 10.\")\n",
    "else:\n",
    "    print(f\"The number {number} is not greater than 10.\")\n"
   ]
  },
  {
   "cell_type": "code",
   "execution_count": 7,
   "id": "d8967ff9",
   "metadata": {},
   "outputs": [
    {
     "name": "stdout",
     "output_type": "stream",
     "text": [
      "The number 345 is a three-digit number.\n"
     ]
    }
   ],
   "source": [
    "#POPCORN HACK 3\n",
    "\n",
    "number = 345  # CHANGEABLE\n",
    "\n",
    "\n",
    "is_three_digits = 100 <= number <= 999\n",
    "\n",
    "if is_three_digits:\n",
    "    print(f\"The number {number} is a three-digit number.\")\n",
    "else:\n",
    "    print(f\"The number {number} is not a three-digit number.\")\n"
   ]
  },
  {
   "cell_type": "code",
   "execution_count": 8,
   "id": "b1736344",
   "metadata": {},
   "outputs": [
    {
     "name": "stdout",
     "output_type": "stream",
     "text": [
      " A      B      A AND B    A OR B     NOT A\n",
      "--------------------------------------------\n",
      "1       1       1          1          0      \n",
      "1       0       0          1          0      \n",
      "0       1       0          1          1      \n",
      "0       0       0          0          1      \n"
     ]
    }
   ],
   "source": [
    "#HOMEWORK HACK  (I think I did this right)\n",
    "\n",
    "values = [True, False]\n",
    "\n",
    "print(\" A      B      A AND B    A OR B     NOT A\")\n",
    "print(\"--------------------------------------------\")\n",
    "\n",
    "for A in values:\n",
    "    for B in values:\n",
    "        A_and_B = A and B\n",
    "        A_or_B = A or B\n",
    "        not_A = not A\n",
    "        print(f\"{A:<7} {B:<7} {A_and_B:<10} {A_or_B:<10} {not_A:<7}\")\n"
   ]
  }
 ],
 "metadata": {
  "kernelspec": {
   "display_name": "Python 3 (ipykernel)",
   "language": "python",
   "name": "python3"
  },
  "language_info": {
   "codemirror_mode": {
    "name": "ipython",
    "version": 3
   },
   "file_extension": ".py",
   "mimetype": "text/x-python",
   "name": "python",
   "nbconvert_exporter": "python",
   "pygments_lexer": "ipython3",
   "version": "3.10.12"
  }
 },
 "nbformat": 4,
 "nbformat_minor": 5
}
