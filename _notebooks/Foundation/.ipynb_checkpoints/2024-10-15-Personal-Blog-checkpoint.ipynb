{
 "cells": [
  {
   "cell_type": "raw",
   "id": "f4cee221",
   "metadata": {},
   "source": [
    "---\n",
    "layout:post\n",
    "title: Shawn Ray's Sprint 2 Personal Blog\n",
    "description: Personal Blog about Sprint 2\n",
    "type: issues\n",
    "comments: True\n",
    "---"
   ]
  },
  {
   "cell_type": "markdown",
   "id": "aaafc165",
   "metadata": {},
   "source": [
    "## What I Taught"
   ]
  },
  {
   "cell_type": "code",
   "execution_count": null,
   "id": "8cd4d062",
   "metadata": {},
   "outputs": [],
   "source": []
  },
  {
   "cell_type": "markdown",
   "id": "be719926",
   "metadata": {},
   "source": [
    "We taught lesson 3.8 which was iterations\n",
    "1. Loops\n",
    "    -For Loops\n",
    "    -While Loops\n",
    "    -Do-While Loops\n",
    "    -Infinite Loops\n",
    "2. Nested-If Statements\n",
    "3. Try/Except\n",
    "4. Dictionaries"
   ]
  },
  {
   "cell_type": "markdown",
   "id": "89f8210e",
   "metadata": {},
   "source": [
    "## What I learned"
   ]
  },
  {
   "cell_type": "code",
   "execution_count": 4,
   "id": "07a8fb9e",
   "metadata": {},
   "outputs": [
    {
     "data": {
      "text/html": [
       "\n",
       "<table border=\"1\" style=\"border-collapse: collapse; width: 70%;\">\n",
       "    <tr>\n",
       "        <th>Lesson</th>\n",
       "        <th>Thing Learned 1</th>\n",
       "        <th>Thing Learned 2</th>\n",
       "    </tr>\n",
       "\n",
       "    <tr>\n",
       "        <td><a href=\"https://nighthawkcoders.github.io/portfolio_2025/csp/big-idea/p1/3-1-1\" target=\"_blank\">Lesson 3.1</a></td>\n",
       "        <td contenteditable=\"true\">Introduction to Python syntax and basic data types</td>\n",
       "        <td contenteditable=\"true\">How to use variables and print statements</td>\n",
       "    </tr>\n",
       "    \n",
       "    <tr>\n",
       "        <td><a href=\"https://nighthawkcoders.github.io/portfolio_2025/csp/big-idea/home\" target=\"_blank\">Lesson 3.2</a></td>\n",
       "        <td contenteditable=\"true\">Understanding conditionals and if-else statements</td>\n",
       "        <td contenteditable=\"true\">Logical operators and their role in decision-making</td>\n",
       "    </tr>\n",
       "    \n",
       "    <tr>\n",
       "        <td><a href=\"https://nighthawkcoders.github.io/portfolio_2025/csp/big-idea/3-3/p1\" target=\"_blank\">Lesson 3.3</a></td>\n",
       "        <td contenteditable=\"true\">Introduction to loops, focusing on for loops</td>\n",
       "        <td contenteditable=\"true\">How loops help automate repetitive tasks</td>\n",
       "    </tr>\n",
       "    \n",
       "    <tr>\n",
       "        <td><a href=\"https://nighthawkcoders.github.io/portfolio_2025/csp/big-idea/p1/3-4\" target=\"_blank\">Lesson 3.4</a></td>\n",
       "        <td contenteditable=\"true\">Working with while loops and conditions</td>\n",
       "        <td contenteditable=\"true\">Difference between for and while loops</td>\n",
       "    </tr>\n",
       "    \n",
       "    <tr>\n",
       "        <td><a href=\"https://nighthawkcoders.github.io/portfolio_2025/csp/big-idea/3-5/p1\" target=\"_blank\">Lesson 3.5</a></td>\n",
       "        <td contenteditable=\"true\">Introduction to functions and defining reusable code</td>\n",
       "        <td contenteditable=\"true\">How to pass arguments to functions</td>\n",
       "    </tr>\n",
       "    \n",
       "    <tr>\n",
       "        <td><a href=\"https://nighthawkcoders.github.io/portfolio_2025/csp/big-idea/3-6/p1\" target=\"_blank\">Lesson 3.6</a></td>\n",
       "        <td contenteditable=\"true\">Understanding return values in functions</td>\n",
       "        <td contenteditable=\"true\">Best practices for function naming and modularity</td>\n",
       "    </tr>\n",
       "    \n",
       "    <tr>\n",
       "        <td><a href=\"https://nighthawkcoders.github.io/portfolio_2025/csp/big-idea/3-7/p1\" target=\"_blank\">Lesson 3.7</a></td>\n",
       "        <td contenteditable=\"true\">Introduction to lists and how to manipulate them</td>\n",
       "        <td contenteditable=\"true\">Basic list methods like append, remove, and sort</td>\n",
       "    </tr>\n",
       "    \n",
       "    <tr>\n",
       "        <td><a href=\"https://nighthawkcoders.github.io/portfolio_2025/csp/big-idea/3-8/p1\" target=\"_blank\">Lesson 3.8</a></td>\n",
       "        <td contenteditable=\"true\">Working with dictionaries and key-value pairs</td>\n",
       "        <td contenteditable=\"true\">How to iterate through a dictionary using loops</td>\n",
       "    </tr>\n",
       "    \n",
       "    <tr>\n",
       "        <td><a href=\"https://nighthawkcoders.github.io/portfolio_2025/csp/big-idea/p1/3-10\" target=\"_blank\">Lesson 3.10</a></td>\n",
       "        <td contenteditable=\"true\">Introduction to error handling with try-except blocks</td>\n",
       "        <td contenteditable=\"true\">How to debug common errors in Python code</td>\n",
       "    </tr>\n",
       "    </table>"
      ],
      "text/plain": [
       "<IPython.core.display.HTML object>"
      ]
     },
     "execution_count": 4,
     "metadata": {},
     "output_type": "execute_result"
    }
   ],
   "source": []
  },
  {
   "cell_type": "markdown",
   "id": "0478b37b",
   "metadata": {},
   "source": [
    "## Extra Summary of what I learned\n",
    "\n",
    "Throughout our teaching we learned:\n",
    "- Simplify complex concepts then work back to complex. Ex. Popcorn hacks were simple to an extent, but homework hacks combined them all.\n",
    "- Every student learns differently, adapt presentation to all. Ex. Popcorn hacks, pictures, examples.\n",
    "- Answering questions for students in a way that makes sense\n",
    "- Prepare ourselves for the lesson. Ex. Practicing explaining, think about possible questions that could be asked.\n",
    "\n",
    "Throughout our process of creating the lesson, we learned:\n",
    "- Dive deep into Iterations. Since we are teaching this lesson, we need to know everything about it, so the lessons and videos on college board were not going to cut it. We needed to do outside research and research any questions we had.\n",
    "- Embracing Mistakes. We made many, many mistakes especially because this was a sort of self-taught lesson. Mr. Mort closed many of our pull requests and we even made the mistake of not testing things locally for one of our pull requests. However, we learned from these and never made these mistakes again, and for the future, we will never make these mistakes again.\n",
    "- Time Management. We made sure to plan and manage our time with a schedule of what each person would do and when.\n",
    "- Team Work. Speaking of a schedule, this helped us with teamwork where we could plan what each person would do according to everyones schedule."
   ]
  },
  {
   "cell_type": "markdown",
   "id": "b646e313",
   "metadata": {},
   "source": [
    "## Redone Popcorn Hacks"
   ]
  },
  {
   "cell_type": "code",
   "execution_count": 5,
   "id": "fadbe25d",
   "metadata": {},
   "outputs": [
    {
     "name": "stdout",
     "output_type": "stream",
     "text": [
      "Enter the Fibonacci term to calculate (0 for the first term): 5\n",
      "The 5th term in the Fibonacci sequence is: 5\n",
      "Enter the shape (circle, square, rectangle): circle\n",
      "Enter the radius of the circle: 10\n",
      "The area of the circle is: 314.16\n",
      "Enter the solid (rectangular prism, sphere, pyramid): pyramid\n",
      "Enter the base length of the pyramid: 8\n",
      "Enter the width of the pyramid: 3\n",
      "Enter the height of the pyramid: 10\n",
      "The volume of the pyramid is: 80.00\n"
     ]
    }
   ],
   "source": [
    "#Challenge Homework Hack for 3.3 Mathematical Expressions. (Did not do challenge hack, attempting it)\n",
    "\n",
    "import math\n",
    "\n",
    "def fibonacci(n):\n",
    "    \"\"\"Return the nth term in the Fibonacci sequence.\"\"\"\n",
    "    if n < 0:\n",
    "        raise ValueError(\"Input should be a non-negative integer.\")\n",
    "    elif n == 0:\n",
    "        return 0\n",
    "    elif n == 1:\n",
    "        return 1\n",
    "    else:\n",
    "        a, b = 0, 1\n",
    "        for _ in range(2, n + 1):\n",
    "            a, b = b, a + b\n",
    "        return b\n",
    "\n",
    "def calculate_area():\n",
    "    \"\"\"Calculate the area of a circle, square, or rectangle.\"\"\"\n",
    "    shape = input(\"Enter the shape (circle, square, rectangle): \").lower()\n",
    "    \n",
    "    if shape == \"circle\":\n",
    "        radius = float(input(\"Enter the radius of the circle: \"))\n",
    "        area = math.pi * (radius ** 2)\n",
    "        print(f\"The area of the circle is: {area:.2f}\")\n",
    "        \n",
    "    elif shape == \"square\":\n",
    "        side = float(input(\"Enter the side length of the square: \"))\n",
    "        area = side ** 2\n",
    "        print(f\"The area of the square is: {area:.2f}\")\n",
    "        \n",
    "    elif shape == \"rectangle\":\n",
    "        length = float(input(\"Enter the length of the rectangle: \"))\n",
    "        width = float(input(\"Enter the width of the rectangle: \"))\n",
    "        area = length * width\n",
    "        print(f\"The area of the rectangle is: {area:.2f}\")\n",
    "        \n",
    "    else:\n",
    "        print(\"Invalid shape. Please enter circle, square, or rectangle.\")\n",
    "\n",
    "def calculate_volume():\n",
    "    \"\"\"Calculate the volume of a rectangular prism, sphere, or pyramid.\"\"\"\n",
    "    solid = input(\"Enter the solid (rectangular prism, sphere, pyramid): \").lower()\n",
    "    \n",
    "    if solid == \"rectangular prism\":\n",
    "        base = float(input(\"Enter the base length of the rectangular prism: \"))\n",
    "        width = float(input(\"Enter the width of the rectangular prism: \"))\n",
    "        height = float(input(\"Enter the height of the rectangular prism: \"))\n",
    "        volume = base * width * height\n",
    "        print(f\"The volume of the rectangular prism is: {volume:.2f}\")\n",
    "        \n",
    "    elif solid == \"sphere\":\n",
    "        radius = float(input(\"Enter the radius of the sphere: \"))\n",
    "        volume = (4/3) * math.pi * (radius ** 3)\n",
    "        print(f\"The volume of the sphere is: {volume:.2f}\")\n",
    "        \n",
    "    elif solid == \"pyramid\":\n",
    "        base = float(input(\"Enter the base length of the pyramid: \"))\n",
    "        width = float(input(\"Enter the width of the pyramid: \"))\n",
    "        height = float(input(\"Enter the height of the pyramid: \"))\n",
    "        volume = (1/3) * base * width * height\n",
    "        print(f\"The volume of the pyramid is: {volume:.2f}\")\n",
    "        \n",
    "    else:\n",
    "        print(\"Invalid solid. Please enter rectangular prism, sphere, or pyramid.\")\n",
    "\n",
    "\n",
    "if __name__ == \"__main__\":\n",
    "    \n",
    "    term = int(input(\"Enter the Fibonacci term to calculate (0 for the first term): \"))\n",
    "    print(f\"The {term}th term in the Fibonacci sequence is: {fibonacci(term)}\")\n",
    "\n",
    "    \n",
    "    calculate_area()\n",
    "\n",
    "    \n",
    "    calculate_volume()\n"
   ]
  },
  {
   "cell_type": "code",
   "execution_count": 6,
   "id": "f088d3c6",
   "metadata": {},
   "outputs": [
    {
     "name": "stdout",
     "output_type": "stream",
     "text": [
      "A\tB\tA AND B\tA OR B\tNOT A\tNOT B\t¬(A AND B)\t¬A OR ¬B\t¬(A OR B)\t¬A AND ¬B\n",
      "-------------------------------------------------------------------------------------\n",
      "True\tTrue\tTrue\t\tTrue\tFalse\tFalse\tFalse\t\tFalse\tFalse\t\tFalse\n",
      "True\tFalse\tFalse\t\tTrue\tFalse\tTrue\tTrue\t\tTrue\tFalse\t\tFalse\n",
      "False\tTrue\tFalse\t\tTrue\tTrue\tFalse\tTrue\t\tTrue\tFalse\t\tFalse\n",
      "False\tFalse\tFalse\t\tFalse\tTrue\tTrue\tTrue\t\tTrue\tTrue\t\tTrue\n"
     ]
    }
   ],
   "source": [
    "#3.5 Booleans Homework Hack Rework\n",
    "\n",
    "def truth_table():\n",
    "    print(\"A\\tB\\tA AND B\\tA OR B\\tNOT A\\tNOT B\\t¬(A AND B)\\t¬A OR ¬B\\t¬(A OR B)\\t¬A AND ¬B\")\n",
    "    print(\"-\" * 85)\n",
    "    \n",
    "    for A in [True, False]:\n",
    "        for B in [True, False]:\n",
    "            \n",
    "            A_and_B = A and B\n",
    "            A_or_B = A or B\n",
    "            not_A = not A\n",
    "            not_B = not B\n",
    "            not_A_and_B = not (A and B)  \n",
    "            not_A_or_not_B = not_A or not_B  \n",
    "            not_A_or_B = not (A or B)  \n",
    "            not_A_and_not_B = not_A and not_B  \n",
    "            \n",
    "            \n",
    "            print(f\"{A}\\t{B}\\t{A_and_B}\\t\\t{A_or_B}\\t{not_A}\\t{not_B}\\t{not_A_and_B}\\t\\t{not_A_or_not_B}\\t{not_A_or_B}\\t\\t{not_A_and_not_B}\")\n",
    "\n",
    "\n",
    "truth_table()\n"
   ]
  }
 ],
 "metadata": {
  "kernelspec": {
   "display_name": "Python 3 (ipykernel)",
   "language": "python",
   "name": "python3"
  },
  "language_info": {
   "codemirror_mode": {
    "name": "ipython",
    "version": 3
   },
   "file_extension": ".py",
   "mimetype": "text/x-python",
   "name": "python",
   "nbconvert_exporter": "python",
   "pygments_lexer": "ipython3",
   "version": "3.10.12"
  }
 },
 "nbformat": 4,
 "nbformat_minor": 5
}
