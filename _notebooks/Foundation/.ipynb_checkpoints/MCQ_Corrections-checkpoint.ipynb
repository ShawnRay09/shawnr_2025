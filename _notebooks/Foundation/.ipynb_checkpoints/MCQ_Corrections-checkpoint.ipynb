{
 "cells": [
  {
   "cell_type": "raw",
   "id": "4d0010ad-b610-4ece-b61d-c1035b733529",
   "metadata": {},
   "source": [
    "---\n",
    "layout: post\n",
    "title: MCQ Corrections\n",
    "description: Corrections for 2018 MCQ\n",
    "type: issues\n",
    "comments: True\n",
    "---"
   ]
  },
  {
   "cell_type": "markdown",
   "id": "cc842f18-4ec2-4c25-8f34-7249e037fcba",
   "metadata": {},
   "source": [
    "# Question Corrections"
   ]
  },
  {
   "cell_type": "markdown",
   "id": "0e90939d-6775-4799-98f0-669c0c5e0a09",
   "metadata": {},
   "source": [
    "### Question 14\n",
    "\n",
    "Initial Thoughts: I thought that these two codes both displayed a different number of values each. I thought the first code had 1-10, whilst the second code had 2-10, which caused me to believe that they displayed different numbers of values each, but this was simply wrong. \n",
    "\n",
    "Corrections: Though both codes did start at different values, the first one starting at 1, and the second one starting at 2, they both have the same number of values. The first one starts at 1 and ends at 10, whilst the second one starts at 2 and ends at 11. This is the same number of numbers displayed, but just different numbers. This is why C is the correct answer"
   ]
  },
  {
   "cell_type": "markdown",
   "id": "62eb2618-f254-44b1-9feb-ca482e7d819d",
   "metadata": {},
   "source": [
    "### Question 30\n",
    "\n",
    "Initial Thoughts: After reading the exact quote from the question \"The Analysis procedure takes approximately 1 hour to return a result, regardless of the number of videos of the given genre. All other operations happen nearly instantaneously.\" This caused me to believe that this would take exactly 1 hour and it was kind of a trick question. This was a careless mistake and could have been fixed from just reading the question more thoroughly.\n",
    "\n",
    "Corrections: This approximation for 1 hour is only accurate when the analysis is called once, however it is called multiple times. To be more exact, it is called 5 times, once for the \"science fiction\", and 4 others for the other genres (comedy, drama, mystery, and romance). Because it was called 5 times rather than just once, we have to account for the 1 hour for each time it is called, so since it was called 5 times, it will have an approximate time of 5 hours. This is why D is the correct answer."
   ]
  },
  {
   "cell_type": "markdown",
   "id": "921f3b99-da39-476e-8a89-3f6142981e1c",
   "metadata": {},
   "source": [
    "### Question 39\n",
    "\n",
    "Initial Thoughts: I assumed that open standards and protocols were more connected with the back-end and coding work reguarding that certain internet communication. Because of this I thought that this would affect some things like how fast the back-end and front-end talked with each other, and certain aspects of the connection between back-end and front-end like that.\n",
    "\n",
    "Corrections: Knowing that this question is asking in the context of a more general and front-end view, open standards allow developers to connect their devices and work, and open protocols help with them to share solutions without any conflictions or errors. This is why A is the correct answer as it helps them build and develop new software because of the benefits of communication."
   ]
  },
  {
   "cell_type": "markdown",
   "id": "30fa298e-5bd6-4f5a-af85-bba287ae8ac4",
   "metadata": {},
   "source": [
    "### Question 42\n",
    "\n",
    "Initial Thoughts: I was not familiar with Internet protocol versions, how each differ, and what they exactly do so I just unfortunately guessed on this one. My logic was that 128-bit compared to 32-bit is a 4 times difference. This caused me to believe that A was the correct answer but it is way different than I thought\n",
    "\n",
    "Corrections: After doing some research, I learned that IPv4 has about 4.3 billion different unique addresses, whilst IPv6 uses way more variables and values which makes the number of different and unique addresses to be astronomically huge. This means that the only answer that makes sense is 2^96 because every other value can be easily calculated from just simply multiplying 4.3 billion by them, but 2^96 times 4.3 billion is an extremely huge number. This means that the answer is D."
   ]
  },
  {
   "cell_type": "markdown",
   "id": "553a9748-4df0-4d29-98f2-189e0882af46",
   "metadata": {},
   "source": [
    "### Question 43\n",
    "\n",
    "Initial Thoughts: My mind first went towards the fact that there are so many steps. Because there are so many steps when running this code for a certain amount of items, I assumed that it would take a long time to run and for all these steps to be completed. However I was completely wrong in thinking this because I learned now that it is all about the patterns.\n",
    "\n",
    "Corrections: This shows a polynomial pattern. To be more exact, after adding the next 10 items, the number of steps increases by 300, then 500, then 700, then 900, and so on and so forth. This pattern shows that the program runs within a reasonable time, and obviously the program runs and works if this is successfully displaying. So, from all of this logic, we can deduce that the answer is A."
   ]
  },
  {
   "cell_type": "markdown",
   "id": "753550bd-9d23-475d-be41-1eb7dbc0c94f",
   "metadata": {},
   "source": [
    "### Question 48\n",
    "\n",
    "Initial Thoughts: I thought that 25% of the answers were supposed to be successful, and 75% were supposed to be unsuccessful. Simple mishap on my end and could be fixed easily by reading the question.\n",
    "\n",
    "Corrections: Since the first if statement counts the correct/successful attemps, we must make 75% of the numbers in the code output successful attempts. So, when generating a random number between 1 and 100, we need 75 of them to work, so less than or equal to 75 is 75 numbers that are successful when generated by the code. So the answer must be D."
   ]
  },
  {
   "cell_type": "markdown",
   "id": "fbfcfe46-eda5-457d-be9c-efe77fffbe99",
   "metadata": {},
   "source": [
    "### Question 50\n",
    "\n",
    "Initial Thoughts: I did not exactly know the exact definitions of both a linear and binary search, so I was forced to guess on these. I also knew it was not III because it is checking each element, so it doesn't matter if the list is sorted or not.\n",
    "\n",
    "Corrections: \n",
    "Binary Search: Divides the storted list in half repeatedly to find the target item, this helps when the target item is near the middle.\n",
    "\n",
    "Linear Search: Goes through each element one by one starting from the beginning to find the target item, this helps when the target item is near the front or is the first element in the list.\n",
    "\n",
    "So, this code undergoes a linear search because it searches through each element for the target element in list using a for loop. Therefore, the correct answer is B"
   ]
  },
  {
   "cell_type": "markdown",
   "id": "ed0c28c4-dafb-49b2-a8f0-6af6bef75f3b",
   "metadata": {},
   "source": [
    "### Question 52\n",
    "\n",
    "Initial Thoughts: I knew that the most likely order was the exact order that the question referred to, but I didn't realize that multiple ways of that same order would have the same output. This was a careless mistake and could have been fixed by just reading the questions and answers in more depth.\n",
    "\n",
    "Corrections: I knew II was correct because it matches the question's explanation, but III is also correct because alphabetically sorting the list, then keeping the palindromes, then outputting the first letter of those palindromes gives the exact same output as the II. Therefore, the answer to this question is B"
   ]
  },
  {
   "cell_type": "markdown",
   "id": "318ee10d-3730-44aa-84b8-d558ad4e1927",
   "metadata": {},
   "source": [
    "### Question 54\n",
    "\n",
    "Initial Thoughts: I thought the question was asking what could also be added to the list, but it was not asking that. This is why I chose n^4 because it matches the pattern of the procedures listed above, but the question was not asking that. The question was simply asking for that pattern, and this could have been fixed if I wasn't so careless and read the question further.\n",
    "\n",
    "Corrections: n^m is the answer because it generalizes the pattern and actually answers the question that they asked. Therefore, the answer is D."
   ]
  },
  {
   "cell_type": "markdown",
   "id": "0b80f5ca-3255-414c-9088-b328c956f171",
   "metadata": {},
   "source": [
    "### Question 55\n",
    "\n",
    "Initial Thoughts: After reading the procedure, I thought that expression [response = \"y\" AND response = \"yes\"] was an OR gate instead of an AND gate. This was a careless mistake and simply again could have been avoided by reading the question with more care.\n",
    "\n",
    "Corrections: Since the response can never be y and yes, the expression will always be false because the condition says to print a true statement when the AND gate condition has been fufilled. Since it can never be fufilled, that means that the code will always have an output of false. Therefore, D is the answer."
   ]
  },
  {
   "cell_type": "markdown",
   "id": "8838a092-da06-4b35-bbc5-4038e1362833",
   "metadata": {},
   "source": [
    "### Question 57\n",
    "\n",
    "Initial Thoughts: First off, I noticed that this was about strings and string manipulation. I know that you can convey different messages through strings by replacing the certain letters of certain words. In this case, I didn't really understand what the numbers in the procedure meant, so I assumed that it was the start and end letters, but I was wrong.\n",
    "\n",
    "Corrections: Now I realize that the first number represents the letter that you start with, and the second number represents the number of letters that you take from that word to form the new word. In that case, to spell happy, you need the \"ha\" from harp, so start at the 1st letter and take two letters. This means that the procedure would require 1, 2 as the numbers because we need to start at 1, and take 2 letters. Then for puppy, same thing, we start at the 3rd letter, and end at y, so 3, 3. This means that B is the correct answer."
   ]
  },
  {
   "cell_type": "markdown",
   "id": "28f160fe-b728-4c22-b299-a0fafa7f168a",
   "metadata": {},
   "source": [
    "### Question 64\n",
    "\n",
    "Initial Thoughts: I wasn't familiar with what cloud computing is, but I know it is important for communication within the internet. I knew that was one of the answers, but I didn't know the other one, so I assumed it was something that helped with redundancy and speed. However this was wrong and after doing some researching this is what I came up with.\n",
    "\n",
    "Corrections: Cloud computing is the delivery of cloud services over the internet or web. This directly relates with communication over the internet which matches one of my answers, but also it allows users to access their own storage, networking, software, and more. This brings up security concerns as each user has their own database/login so other users are able to hack into those databases and steal their information. This means that the answer is B and C."
   ]
  }
 ],
 "metadata": {
  "kernelspec": {
   "display_name": "Python 3 (ipykernel)",
   "language": "python",
   "name": "python3"
  },
  "language_info": {
   "codemirror_mode": {
    "name": "ipython",
    "version": 3
   },
   "file_extension": ".py",
   "mimetype": "text/x-python",
   "name": "python",
   "nbconvert_exporter": "python",
   "pygments_lexer": "ipython3",
   "version": "3.12.3"
  }
 },
 "nbformat": 4,
 "nbformat_minor": 5
}
