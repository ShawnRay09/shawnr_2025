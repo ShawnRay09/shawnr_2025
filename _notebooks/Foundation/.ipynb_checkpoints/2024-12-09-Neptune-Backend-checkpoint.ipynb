{
 "cells": [
  {
   "cell_type": "raw",
   "id": "08d1cd27-85bd-4ca6-8539-98c68141a1ab",
   "metadata": {},
   "source": [
    "---\n",
    "layout: post\n",
    "title: Neptune Backend\n",
    "description: Work for Neptune's Backend\n",
    "type: issues\n",
    "comments: True\n",
    "---"
   ]
  },
  {
   "cell_type": "markdown",
   "id": "a7209fc2-052a-46de-8efe-6bf7b2c4a6e1",
   "metadata": {},
   "source": [
    "# Neptune with Postman API"
   ]
  },
  {
   "cell_type": "markdown",
   "id": "09cf30f4-3691-41ff-9702-fff976880fba",
   "metadata": {},
   "source": [
    "I put this code in our main.py file in our Neptune_backend. It sets an endpoint at api/classes and allows that endpoint to handle GET requests. Whenever\n",
    "a GET request is sent to the endpoint, it will return a list full of different classes that have been defined."
   ]
  },
  {
   "cell_type": "code",
   "execution_count": null,
   "id": "4b6bdd23-0541-4845-a0c5-424642a128f8",
   "metadata": {},
   "outputs": [],
   "source": []
  },
  {
   "cell_type": "code",
   "execution_count": null,
   "id": "8b1c470d-5e96-40e6-954a-8e8d2665efee",
   "metadata": {},
   "outputs": [],
   "source": []
  }
 ],
 "metadata": {
  "kernelspec": {
   "display_name": "Python 3 (ipykernel)",
   "language": "python",
   "name": "python3"
  },
  "language_info": {
   "codemirror_mode": {
    "name": "ipython",
    "version": 3
   },
   "file_extension": ".py",
   "mimetype": "text/x-python",
   "name": "python",
   "nbconvert_exporter": "python",
   "pygments_lexer": "ipython3",
   "version": "3.12.3"
  }
 },
 "nbformat": 4,
 "nbformat_minor": 5
}
