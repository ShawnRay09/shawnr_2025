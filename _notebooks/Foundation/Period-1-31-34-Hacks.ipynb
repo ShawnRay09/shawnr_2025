{
 "cells": [
  {
   "cell_type": "markdown",
   "id": "e95e6ad3",
   "metadata": {},
   "source": [
    "---\n",
    "layout: post\n",
    "title: 3.1/3.4 Hacks\n",
    "description:  Popcorn and Homework hacks for 3.1/3.4\n",
    "type: issues \n",
    "comments: true\n",
    "---"
   ]
  },
  {
   "cell_type": "code",
   "execution_count": null,
   "id": "ad3c6d0f-997d-4f5c-8d6a-1e3cfd44f818",
   "metadata": {},
   "outputs": [],
   "source": [
    "#Popcorn Hack for 3.1"
   ]
  },
  {
   "cell_type": "code",
   "execution_count": 3,
   "id": "ab997130-203c-4df7-9c34-be09db76ea33",
   "metadata": {},
   "outputs": [
    {
     "name": "stdout",
     "output_type": "stream",
     "text": [
      "What is your name?:  Shawn Ray\n",
      "What is your age?:  15\n",
      "What is your favorite Brawl Stars brawler?:  Jessie\n",
      "What is your favorite color?:  Blue\n",
      "What is your favorite hobby?:  Running\n",
      "Where are you located?:  My Bed\n"
     ]
    },
    {
     "name": "stdout",
     "output_type": "stream",
     "text": [
      "\n",
      "Profile List:\n",
      "['Shawn Ray', '15', 'Jessie', 'Blue', 'Running', 'My Bed']\n",
      "\n",
      "Profile Dictionary:\n",
      "{'Name': 'Shawn Ray', 'Age': '15', 'Favorite Brawler': 'Jessie', 'Favorite Color': 'Blue', 'Hobby': 'Running', 'Location': 'My Bed'}\n",
      "\n",
      "Profile Summary:\n",
      "Hi, my name is Shawn Ray, I'm 15 years old, my favorite brawler is Jessie, my favorite color is Blue, I enjoy Running, and I'm located in My Bed.\n"
     ]
    }
   ],
   "source": [
    "name = input(\"What is your name?: \")\n",
    "age = input(\"What is your age?: \")\n",
    "favorite_brawler = input(\"What is your favorite Brawl Stars brawler?: \")\n",
    "favorite_color = input(\"What is your favorite color?: \")\n",
    "hobby = input(\"What is your favorite hobby?: \")\n",
    "location = input(\"Where are you located?: \")\n",
    "\n",
    "profile_list = [name, age, favorite_brawler, favorite_color, hobby, location]\n",
    "\n",
    "profile_dict = {\n",
    "    \"Name\": name,\n",
    "    \"Age\": age,\n",
    "    \"Favorite Brawler\": favorite_brawler,\n",
    "    \"Favorite Color\": favorite_color,\n",
    "    \"Hobby\": hobby,\n",
    "    \"Location\": location\n",
    "}\n",
    "\n",
    "print(\"\\nProfile List:\")\n",
    "print(profile_list)\n",
    "print(\"\\nProfile Dictionary:\")\n",
    "print(profile_dict)\n",
    "\n",
    "print(\"\\nProfile Summary:\")\n",
    "print(\"Hi, my name is \" + name + \", I'm \" + age + \" years old, my favorite brawler is \" + favorite_brawler +\n",
    "      \", my favorite color is \" + favorite_color + \", I enjoy \" + hobby + \", and I'm located in \" + location + \".\")\n"
   ]
  },
  {
   "cell_type": "code",
   "execution_count": null,
   "id": "b3a277a2-ce5c-4ea7-abdc-3919b62cd8e0",
   "metadata": {},
   "outputs": [],
   "source": [
    "#Homework Hack for 3.1 (Will show up in console as well as in the form of an alert)"
   ]
  },
  {
   "cell_type": "code",
   "execution_count": 10,
   "id": "550de369-2f70-4992-8c2e-2e0fbf2faf92",
   "metadata": {},
   "outputs": [
    {
     "data": {
      "application/javascript": "\nlet firstName = \"Shawn\";\nlet lastName = \"Ray\";\nlet age = 15;\nlet email = \"shawnyray116@gmail.com\";\nlet favoriteSport = \"Soccer\";\nlet city = \"San Diego\";\n\nlet uniqueID = (firstName.substring(0, 3) + lastName.substring(0, 3) + age).toUpperCase();\n\nlet personalInfo = {\n    fullName: `${firstName} ${lastName}`,\n    age: age,\n    email: email,\n    favoriteSport: favoriteSport,\n    city: city,\n    uniqueID: uniqueID\n};\n\nfunction displayInfoConsole(info) {\n    console.log(\"=== Personal Information ===\");\n    console.log(`- Full Name: ${info.fullName}`);\n    console.log(`- Age: ${info.age}`);\n    console.log(`- Email: ${info.email}`);\n    console.log(`- Favorite Sport: ${info.favoriteSport}`);\n    console.log(`- City: ${info.city}`);\n    console.log(`- Unique ID: ${info.uniqueID}`);\n}\n\nalert(`=== Personal Information ===\\n- Full Name: ${firstName} ${lastName}\\n- Age: ${age}\\n- Email: ${email}\\n- Favorite Sport: ${favoriteSport}\\n- City: ${city}\\n- Unique ID: ${uniqueID}`);\n",
      "text/plain": [
       "<IPython.core.display.Javascript object>"
      ]
     },
     "metadata": {},
     "output_type": "display_data"
    }
   ],
   "source": [
    "%%javascript\n",
    "\n",
    "let firstName = \"Shawn\";\n",
    "let lastName = \"Ray\";\n",
    "let age = 15;\n",
    "let email = \"shawnyray116@gmail.com\";\n",
    "let favoriteSport = \"Soccer\";\n",
    "let city = \"San Diego\";\n",
    "\n",
    "let uniqueID = (firstName.substring(0, 3) + lastName.substring(0, 3) + age).toUpperCase();\n",
    "\n",
    "let personalInfo = {\n",
    "    fullName: `${firstName} ${lastName}`,\n",
    "    age: age,\n",
    "    email: email,\n",
    "    favoriteSport: favoriteSport,\n",
    "    city: city,\n",
    "    uniqueID: uniqueID\n",
    "};\n",
    "\n",
    "function displayInfoConsole(info) {\n",
    "    console.log(\"=== Personal Information ===\");\n",
    "    console.log(`- Full Name: ${info.fullName}`);\n",
    "    console.log(`- Age: ${info.age}`);\n",
    "    console.log(`- Email: ${info.email}`);\n",
    "    console.log(`- Favorite Sport: ${info.favoriteSport}`);\n",
    "    console.log(`- City: ${info.city}`);\n",
    "    console.log(`- Unique ID: ${info.uniqueID}`);\n",
    "}\n",
    "\n",
    "alert(`=== Personal Information ===\\n- Full Name: ${firstName} ${lastName}\\n- Age: ${age}\\n- Email: ${email}\\n- Favorite Sport: ${favoriteSport}\\n- City: ${city}\\n- Unique ID: ${uniqueID}`);\n"
   ]
  },
  {
   "cell_type": "code",
   "execution_count": null,
   "id": "e7f7fd18-2c45-4baa-805f-fc83f99395a6",
   "metadata": {},
   "outputs": [],
   "source": [
    "#Popcorn hack for 3.4"
   ]
  },
  {
   "cell_type": "code",
   "execution_count": 13,
   "id": "c33d434b-c37f-406a-b2c0-c0f27ca112d5",
   "metadata": {},
   "outputs": [
    {
     "name": "stdout",
     "output_type": "stream",
     "text": [
      "Password must contain both uppercase and lowercase letters.\n"
     ]
    }
   ],
   "source": [
    "#Example of bad password input\n",
    "import re\n",
    "\n",
    "def simple_password_validator(password):\n",
    "    if len(password) < 8:\n",
    "        return \"Password too short. Must be at least 8 characters.\"\n",
    "\n",
    "    if password.islower() or password.isupper():\n",
    "        return \"Password must contain both uppercase and lowercase letters.\"\n",
    "\n",
    "    if not re.search(r'\\d', password):\n",
    "        return \"Password must contain at least one number.\"\n",
    "\n",
    "    if not re.search(r'[!@#$%^&*()_+]', password):\n",
    "        return \"Password must contain at least one special character (e.g. !, @, #, etc.).\"\n",
    "\n",
    "    common_passwords = [\"password\", \"123456\", \"shawnrayisabaddie\", \"qwerty\"]\n",
    "    if password.lower() in common_passwords:\n",
    "        return \"Password is too common. Choose something less predictable.\"\n",
    "\n",
    "    customized_password = password.replace(\"123\", \"abc\")\n",
    "\n",
    "    return f\"Password is valid! Here’s a more secure version if needed: {customized_password}\"\n",
    "\n",
    "print(simple_password_validator(\"shawnrayisabaddie\")) "
   ]
  },
  {
   "cell_type": "code",
   "execution_count": 14,
   "id": "73cf5cfa-9607-4dc6-b2b4-d5fd76dfcc5a",
   "metadata": {},
   "outputs": [
    {
     "name": "stdout",
     "output_type": "stream",
     "text": [
      "Password is valid! Here’s a more secure version if needed: HelloWorldabc!\n"
     ]
    }
   ],
   "source": [
    "#Example of good password input\n",
    "import re\n",
    "\n",
    "def simple_password_validator(password):\n",
    "    if len(password) < 8:\n",
    "        return \"Password too short. Must be at least 8 characters.\"\n",
    "\n",
    "    if password.islower() or password.isupper():\n",
    "        return \"Password must contain both uppercase and lowercase letters.\"\n",
    "\n",
    "    if not re.search(r'\\d', password):\n",
    "        return \"Password must contain at least one number.\"\n",
    "\n",
    "    if not re.search(r'[!@#$%^&*()_+]', password):\n",
    "        return \"Password must contain at least one special character (e.g. !, @, #, etc.).\"\n",
    "\n",
    "    common_passwords = [\"password\", \"123456\", \"shawnrayisabaddie\", \"qwerty\"]\n",
    "    if password.lower() in common_passwords:\n",
    "        return \"Password is too common. Choose something less predictable.\"\n",
    "\n",
    "    customized_password = password.replace(\"123\", \"abc\")\n",
    "\n",
    "    return f\"Password is valid! Here’s a more secure version if needed: {customized_password}\"\n",
    "\n",
    "print(simple_password_validator(\"HelloWorld123!\")) "
   ]
  },
  {
   "cell_type": "code",
   "execution_count": null,
   "id": "5f3979b7-4a9a-4959-99b7-f9b3adbd497f",
   "metadata": {},
   "outputs": [],
   "source": [
    "#Homework hack for 3.4"
   ]
  },
  {
   "cell_type": "code",
   "execution_count": 17,
   "id": "20fd8a5b-2c5c-45fa-858a-92249e73d017",
   "metadata": {},
   "outputs": [
    {
     "data": {
      "application/javascript": "\n\nfunction simplePasswordValidator(password) {\n    if (password.length < 8) {\n        return \"Password too short. Must be at least 8 characters.\";\n    }\n    if (password === password.toLowerCase() || password === password.toUpperCase()) {\n        return \"Password must contain both uppercase and lowercase letters.\";\n    }\n    if (!/\\d/.test(password)) {\n        return \"Password must contain at least one number.\";\n    }\n    if (!/[!@#$%^&*()_+]/.test(password)) {\n        return \"Password must contain at least one special character (e.g. !, @, #, etc.).\";\n    }\n    const commonPasswords = [\"password\", \"123456\", \"letmein\", \"qwerty\"];\n    if (commonPasswords.includes(password.toLowerCase())) {\n        return \"Password is too common. Choose something less predictable.\";\n    }\n    return \"Password is valid!\";\n}\n\nconsole.log(simplePasswordValidator(\"HelloWorld123!\"));\n\n",
      "text/plain": [
       "<IPython.core.display.Javascript object>"
      ]
     },
     "metadata": {},
     "output_type": "display_data"
    }
   ],
   "source": [
    "%%javascript\n",
    "\n",
    "\n",
    "function simplePasswordValidator(password) {\n",
    "    if (password.length < 8) {\n",
    "        return \"Password too short. Must be at least 8 characters.\";\n",
    "    }\n",
    "    if (password === password.toLowerCase() || password === password.toUpperCase()) {\n",
    "        return \"Password must contain both uppercase and lowercase letters.\";\n",
    "    }\n",
    "    if (!/\\d/.test(password)) {\n",
    "        return \"Password must contain at least one number.\";\n",
    "    }\n",
    "    if (!/[!@#$%^&*()_+]/.test(password)) {\n",
    "        return \"Password must contain at least one special character (e.g. !, @, #, etc.).\";\n",
    "    }\n",
    "    const commonPasswords = [\"password\", \"123456\", \"letmein\", \"qwerty\"];\n",
    "    if (commonPasswords.includes(password.toLowerCase())) {\n",
    "        return \"Password is too common. Choose something less predictable.\";\n",
    "    }\n",
    "    return \"Password is valid!\";\n",
    "}\n",
    "\n",
    "console.log(simplePasswordValidator(\"HelloWorld123!\"));\n",
    "\n"
   ]
  },
  {
   "cell_type": "markdown",
   "id": "3f237f36-5e08-42fb-91a8-1b2edfc2e183",
   "metadata": {},
   "source": [
    "Done :)"
   ]
  }
 ],
 "metadata": {
  "kernelspec": {
   "display_name": "Python 3 (ipykernel)",
   "language": "python",
   "name": "python3"
  },
  "language_info": {
   "codemirror_mode": {
    "name": "ipython",
    "version": 3
   },
   "file_extension": ".py",
   "mimetype": "text/x-python",
   "name": "python",
   "nbconvert_exporter": "python",
   "pygments_lexer": "ipython3",
   "version": "3.10.12"
  }
 },
 "nbformat": 4,
 "nbformat_minor": 5
}
