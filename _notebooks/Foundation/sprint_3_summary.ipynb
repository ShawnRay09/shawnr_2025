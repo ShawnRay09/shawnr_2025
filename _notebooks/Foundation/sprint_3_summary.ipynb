{
 "cells": [
  {
   "cell_type": "raw",
   "id": "e6b6b60e-cd52-4280-a7c6-a9206ccb3432",
   "metadata": {},
   "source": [
    "---\n",
    "layout: post\n",
    "title: Sprint 3 Summary\n",
    "description: Shawn Ray's Journey through Sprint 3\n",
    "type: issues\n",
    "comments: True\n",
    "---"
   ]
  },
  {
   "cell_type": "markdown",
   "id": "70bf716a-b437-4e93-8a5e-ebc8896cd073",
   "metadata": {},
   "source": [
    "# Introduction / Project Overview\n",
    "\n",
    "Sprint 3 asked us to plan, design, code, and finally create a fully interactive social media platform for others to chat and interact with. For Mr. Brown's period 1 class, our theme was \"Shared Interests\" in which we decided to do the subtheme of school subjects. The website had to include front-end work which is the styling, and overall look of the pages and site, whilst the back-end work was the work that actually contained the data and content that was stored. We built a page where people are able to talk about certain school subjects and other topics with other people and also other aspects like a fully functional school timer with a resources tab. The main challenge was successfully connecting our back-end to our front-end whilst maintaining our fully functional website with other people working on it at the same time.\n",
    "\n",
    "[Jupyter](https://shawnray09.github.io/flocker_frontend/shared_interests/jupyter/home/)\n"
   ]
  },
  {
   "cell_type": "markdown",
   "id": "472f7464-560b-463d-a702-f12b7827b60a",
   "metadata": {},
   "source": [
    "# Team Contributions"
   ]
  },
  {
   "cell_type": "markdown",
   "id": "ddf56077-6990-4479-a8c5-f7b77319b6f4",
   "metadata": {},
   "source": [
    "| Role          | Name       |\n",
    "|---------------|------------|\n",
    "| Scrum Master  | [Shawn Ray]|\n",
    "| Frontend      | [Shawn Ray, Aarav Sonara]|\n",
    "| Backend       | [Arya Savlani]|\n",
    "| Integrator    | [Shawn Ray]|\n"
   ]
  },
  {
   "cell_type": "markdown",
   "id": "3d1b5be2-7547-4123-b99a-d4c085305c5a",
   "metadata": {},
   "source": [
    "As shown above, I worked on the frontend work with my friend Aarav and was responsible for most of the styling, creativity, and overall front-end work. We decided to go for a purple and black color scheme because it matched well with \"Jupyter\" to us. My job was to setup the look of the website and create the whole structure for my back-end worker, Arya who finished the back-end work. I also had to create a pleasant experience for users on the site and make the site have a visually appealing look to it."
   ]
  },
  {
   "cell_type": "code",
   "execution_count": null,
   "id": "09cb4888-de03-4cb5-8c0f-2d9f279cdc5d",
   "metadata": {},
   "outputs": [],
   "source": []
  },
  {
   "cell_type": "markdown",
   "id": "5181d5ec-15a7-4839-9fa0-91167dc5c09b",
   "metadata": {},
   "source": [
    "# Key Features\n",
    "\n",
    "### 1. Chatroom\n",
    "The chatroom was created in order to allow students to have the ability to create posts and chat with each other on certain school subjects, whether it is for help or simply because they are interested in that subject and want to talk about it. We used a system that sent the data from the user to the back-end where it was stored, and the user could pull that data any time to be able to observe what was being said, and what they can respond with\n",
    "\n",
    "\n",
    "### 2. Timer\n",
    "A timer was used in order to show students when school started and when it ends. It works by setting a 25800 timer acting as each second of the day. It is activated at 8:35, and each hour updates the timer where it will slowly say \"6 hours left\", then \"5 hours left\", and so on. Finally when the time reaches 3:45, it displays, \"School is over!\". There is also a circle around which fills up as the day goes by to add some creativity and make the website more visually pleasing.\n",
    "\n",
    "\n",
    "### 3. Resources\n",
    "Simple resources were provided like links, calculators, dictionaries. These are done to provide students with some support and easy access to these things. This is the easiest and probably most uneventful part of our website."
   ]
  },
  {
   "cell_type": "markdown",
   "id": "8c902e7c-c3ce-4c78-ac25-b108c06547c3",
   "metadata": {},
   "source": [
    "# Improvements\n",
    "-Next time I think adding some more individuality between each person would have been a lot better for the users. For example, a prompt could ask what class each user has each period, and the timer is individually set to show that certain class and when that certain class starts and ends rather than just a simple school timer. Additionally, it could give you those certain resources for even more quick and easy access for students to use.\n",
    "-Simply more chats could have been added to increase the amount of people that would be interested in this site and using this site in general. More subjects and chats would help students by providing them more resources and places to talk in for help or entertainment."
   ]
  },
  {
   "cell_type": "markdown",
   "id": "1ca84206-b395-48b7-80fb-236713e4985b",
   "metadata": {},
   "source": [
    "# Overall\n",
    "Looking back, I’m really proud of how the social media page turned out. It’s a feature that not only showcases our coding skills but also offers users a fun and engaging experience. Personally, I’ve gained a better understanding of how to approach both frontend design and backend logic, and I’ve learned how crucial teamwork is in bringing a project together. Overall, a great experience with a lot of learning and work put into it."
   ]
  }
 ],
 "metadata": {
  "kernelspec": {
   "display_name": "Python 3 (ipykernel)",
   "language": "python",
   "name": "python3"
  },
  "language_info": {
   "codemirror_mode": {
    "name": "ipython",
    "version": 3
   },
   "file_extension": ".py",
   "mimetype": "text/x-python",
   "name": "python",
   "nbconvert_exporter": "python",
   "pygments_lexer": "ipython3",
   "version": "3.10.12"
  }
 },
 "nbformat": 4,
 "nbformat_minor": 5
}
