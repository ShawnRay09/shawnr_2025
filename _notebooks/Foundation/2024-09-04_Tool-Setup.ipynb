{
 "cells": [
  {
   "cell_type": "raw",
   "id": "076d8f0e-8018-4916-b7b9-f3931a2338b4",
   "metadata": {
    "vscode": {
     "languageId": "raw"
    }
   },
   "source": [
    "---\n",
    "layout: post\n",
    "title: Tool Setup\n",
    "description: How I got my tool setup to work\n",
    "type: issues\n",
    "courses: { compsci: {week: 14} }\n",
    "comments: True\n",
    "---"
   ]
  },
  {
   "cell_type": "markdown",
   "id": "74e769a6-f613-4ffd-9dd2-d1bed10f928f",
   "metadata": {},
   "source": [
    "## Background\n",
    "\n",
    "During the first couple days of school, many of us had a lot of trouble with our tool setup. With this trouble, Mr. Mort had the brilliant idea to just have the CSA students help us setup for their own grade. So we went over to Mr. Mort's period 1 CSA class and here are the steps of what happened"
   ]
  },
  {
   "cell_type": "markdown",
   "id": "852526ac-47c0-4fb6-a628-e651c7bb8448",
   "metadata": {},
   "source": [
    "### Restart\n",
    "\n",
    "The first thing we did was delete our nighthawk folders to restart everything. We had some residue work and setup from the previous day, but it was easier and more convenient for the CSA students to just restart from scratch than try to figure our what certain tools we need to install and in what order. Below is the code we used to remove our nighthawk folder."
   ]
  },
  {
   "cell_type": "code",
   "execution_count": null,
   "id": "1118145e-a55c-4ca3-ae79-460421173b70",
   "metadata": {},
   "outputs": [],
   "source": [
    "#rm -rf nighthawk"
   ]
  },
  {
   "cell_type": "markdown",
   "id": "9a5b8d20-40ea-436c-bbc3-4b5a03219533",
   "metadata": {},
   "source": [
    "### Remake/Clone\n",
    "\n",
    "We then used the mkdir command to make a directory and named it \"nighthawk\". We then used the \"cd\" command to \"change our directory\" into the nighthawk folder we had previously just made."
   ]
  },
  {
   "cell_type": "code",
   "execution_count": null,
   "id": "92534dbc-b3fe-402c-a6af-c3a1e77605f6",
   "metadata": {},
   "outputs": [],
   "source": [
    "#mkdir nighthawk\n",
    "#cd nighthawk"
   ]
  },
  {
   "cell_type": "markdown",
   "id": "e7235de1-43b4-4026-b8e8-a7e597d24747",
   "metadata": {},
   "source": [
    "We then used the git clone command to clone Mr. Mort's repository template into our own personal repository."
   ]
  },
  {
   "cell_type": "code",
   "execution_count": null,
   "id": "30e67706-b8e3-4624-967e-7373895cb21e",
   "metadata": {},
   "outputs": [],
   "source": [
    "#git clone https://github.com/ShawnRay09/shawnr_2025.git\n",
    "#git clone https://github.com/nighthawkcoders/portfolio_2025.git"
   ]
  },
  {
   "cell_type": "markdown",
   "id": "0ba65fef-ee94-4c6f-be66-3d701f7cc470",
   "metadata": {},
   "source": [
    "Now, simply to access my code all I had to do was these two commands"
   ]
  },
  {
   "cell_type": "code",
   "execution_count": null,
   "id": "0ddac195-f809-4268-8e4f-6986d3714a75",
   "metadata": {},
   "outputs": [],
   "source": [
    "#cd nighthawk/shawnr_2025\n",
    "#code ."
   ]
  },
  {
   "cell_type": "markdown",
   "id": "1abbeabe-b67e-4e5f-b035-5717dfba40a0",
   "metadata": {},
   "source": [
    "### Getting into the virtual environment and deploying my website\n",
    "\n",
    "In order to deploy and make my local host version of my website, I needed to get into the virtual environment. In vscode, I opened a new terminal and used this command."
   ]
  },
  {
   "cell_type": "code",
   "execution_count": null,
   "id": "5f33e69d-655b-40de-b8c4-28d20a3166df",
   "metadata": {},
   "outputs": [],
   "source": [
    "#source venv/bin/activate"
   ]
  }
 ],
 "metadata": {
  "kernelspec": {
   "display_name": "Python 3 (ipykernel)",
   "language": "python",
   "name": "python3"
  },
  "language_info": {
   "codemirror_mode": {
    "name": "ipython",
    "version": 3
   },
   "file_extension": ".py",
   "mimetype": "text/x-python",
   "name": "python",
   "nbconvert_exporter": "python",
   "pygments_lexer": "ipython3",
   "version": "3.10.12"
  }
 },
 "nbformat": 4,
 "nbformat_minor": 5
}
