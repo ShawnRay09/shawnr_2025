{
 "cells": [
  {
   "cell_type": "markdown",
   "id": "136cd663",
   "metadata": {},
   "source": [
    "---\n",
    "layout: post\n",
    "title: 3.10 Hacks\n",
    "description:  Popcorn and Homework hacks for 3.10\n",
    "type: issues \n",
    "comments: true\n",
    "---"
   ]
  },
  {
   "cell_type": "code",
   "execution_count": 2,
   "id": "002320b5",
   "metadata": {},
   "outputs": [
    {
     "name": "stdout",
     "output_type": "stream",
     "text": [
      "['black', 'white', 'brown', 'yellow', 'purple']\n"
     ]
    }
   ],
   "source": [
    "#POPCORN HACK 1\n",
    "aList = ['black', 'white', 'brown', 'yellow']\n",
    "aList.append('purple')\n",
    "print(aList)"
   ]
  },
  {
   "cell_type": "code",
   "execution_count": 6,
   "id": "f4c4925b",
   "metadata": {},
   "outputs": [
    {
     "name": "stdout",
     "output_type": "stream",
     "text": [
      "['purple', 'black', 'white', 'brown', 'yellow']\n"
     ]
    }
   ],
   "source": [
    "#POPCORN HACK 2 INSERT\n",
    "aList = ['black', 'white', 'brown', 'yellow']\n",
    "aList.insert(0, 'purple')\n",
    "print(aList)"
   ]
  },
  {
   "cell_type": "code",
   "execution_count": 9,
   "id": "523312cd",
   "metadata": {},
   "outputs": [
    {
     "name": "stdout",
     "output_type": "stream",
     "text": [
      "['purple', 'black', 'white', 'brown']\n"
     ]
    }
   ],
   "source": [
    "#POPCORN HACK 2 REMOVE\n",
    "aList = ['purple', 'black', 'white', 'brown', 'yellow']\n",
    "aList.remove('yellow')\n",
    "print(aList)"
   ]
  },
  {
   "cell_type": "code",
   "execution_count": 10,
   "id": "59600994",
   "metadata": {},
   "outputs": [
    {
     "name": "stdout",
     "output_type": "stream",
     "text": [
      "['purple', 'black', 'white', 'yellow']\n"
     ]
    }
   ],
   "source": [
    "#POPCORN HACK 2 DELETE\n",
    "aList = ['purple', 'black', 'white', 'brown', 'yellow']\n",
    "del aList[3]\n",
    "print(aList)"
   ]
  },
  {
   "cell_type": "code",
   "execution_count": 11,
   "id": "2f6f07e1",
   "metadata": {},
   "outputs": [
    {
     "name": "stdout",
     "output_type": "stream",
     "text": [
      "['purple', 'pink', 'white', 'brown', 'yellow']\n"
     ]
    }
   ],
   "source": [
    "#POPCORN HACK 3\n",
    "aList = ['purple', 'black', 'white', 'brown', 'yellow']\n",
    "aList[1] = 'pink'\n",
    "print(aList)"
   ]
  },
  {
   "cell_type": "code",
   "execution_count": 12,
   "id": "e3ca8f4f",
   "metadata": {},
   "outputs": [
    {
     "name": "stdout",
     "output_type": "stream",
     "text": [
      "Sum of even numbers in the list: 30\n",
      "Minimum value in the list: 1\n",
      "Maximum value in the list: 10\n"
     ]
    }
   ],
   "source": [
    "#HOMEWORK HACK\n",
    "\n",
    "nums = [1, 2, 3, 4, 5, 6, 7, 8, 9, 10]\n",
    "\n",
    "even_sum = 0\n",
    "for score in nums:\n",
    "    if score % 2 == 0:  \n",
    "        even_sum += score  \n",
    "\n",
    "print(\"Sum of even numbers in the list:\", even_sum)\n",
    "\n",
    "min_value = nums[0]  \n",
    "max_value = nums[0]  \n",
    "\n",
    "for score in nums:\n",
    "    if score < min_value:  \n",
    "        min_value = score\n",
    "    if score > max_value:  \n",
    "        max_value = score\n",
    "\n",
    "print(\"Minimum value in the list:\", min_value)\n",
    "print(\"Maximum value in the list:\", max_value)\n"
   ]
  }
 ],
 "metadata": {
  "kernelspec": {
   "display_name": "Python 3 (ipykernel)",
   "language": "python",
   "name": "python3"
  },
  "language_info": {
   "codemirror_mode": {
    "name": "ipython",
    "version": 3
   },
   "file_extension": ".py",
   "mimetype": "text/x-python",
   "name": "python",
   "nbconvert_exporter": "python",
   "pygments_lexer": "ipython3",
   "version": "3.10.12"
  }
 },
 "nbformat": 4,
 "nbformat_minor": 5
}
